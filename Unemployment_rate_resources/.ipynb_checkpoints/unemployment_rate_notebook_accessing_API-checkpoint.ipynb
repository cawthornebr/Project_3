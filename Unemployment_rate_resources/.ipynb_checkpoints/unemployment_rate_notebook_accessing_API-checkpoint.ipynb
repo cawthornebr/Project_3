{
 "cells": [
  {
   "cell_type": "code",
   "execution_count": 1,
   "metadata": {},
   "outputs": [],
   "source": [
    "#Import all dependencies\n",
    "from flask import Flask, jsonify, redirect, render_template\n",
    "from scipy import stats\n",
    "import numpy as np\n",
    "import pandas as pd\n",
    "import datetime as dt\n",
    "from datetime import datetime\n",
    "from dateutil.relativedelta import relativedelta\n",
    "import sqlalchemy\n",
    "from sqlalchemy.ext.automap import automap_base\n",
    "from sqlalchemy.orm import Session\n",
    "from sqlalchemy import create_engine, inspect, func\n",
    "import pprint"
   ]
  },
  {
   "cell_type": "code",
   "execution_count": 2,
   "metadata": {},
   "outputs": [],
   "source": [
    "import requests\n",
    "import json\n",
    "import prettytable\n",
    "\n",
    "#Since you can only call the API 25 times per query, start with the first 25 states (AL - MS) or LAUST010000000000003 - LAUST720000000000003\n",
    "#The seriesid for each state was found here: https://github.com/DistrictDataLabs/02-OKJK/blob/master/fixtures/clean_laubs.csv\n",
    "\n",
    "headers = {'Content-type': 'application/json'}\n",
    "data = json.dumps({\"seriesid\": ['LAUST010000000000003','LAUST020000000000003', 'LAUST040000000000003', 'LAUST050000000000003', 'LAUST060000000000003','LAUST080000000000003', 'LAUST090000000000003', 'LAUST100000000000003', 'LAUST110000000000003', 'LAUST120000000000003','LAUST130000000000003', 'LAUST150000000000003', 'LAUST160000000000003', 'LAUST170000000000003', 'LAUST180000000000003', 'LAUST190000000000003', 'LAUST200000000000003', 'LAUST210000000000003', 'LAUST220000000000003', 'LAUST230000000000003', 'LAUST240000000000003', 'LAUST250000000000003', 'LAUST260000000000003', 'LAUST270000000000003', 'LAUST280000000000003', 'LAUST290000000000003', 'LAUST300000000000003', 'LAUST310000000000003', 'LAUST320000000000003', 'LAUST330000000000003', 'LAUST340000000000003', 'LAUST350000000000003', 'LAUST360000000000003', 'LAUST370000000000003', 'LAUST380000000000003', 'LAUST390000000000003','LAUST400000000000003', 'LAUST410000000000003', 'LAUST420000000000003', 'LAUST440000000000003', 'LAUST450000000000003', 'LAUST460000000000003', 'LAUST470000000000003', 'LAUST480000000000003', 'LAUST490000000000003', 'LAUST500000000000003', 'LAUST510000000000003', 'LAUST530000000000003', 'LAUST540000000000003', 'LAUST550000000000003', 'LAUST560000000000003']\n",
    ",\"startyear\":\"2007\", \"endyear\":\"2015\"})\n",
    "#since we can only query 10 years at a time, we will focus on 2007 - 2015 first\n",
    "p = requests.post('https://api.bls.gov/publicAPI/v2/timeseries/data/', data=data, headers=headers)\n",
    "json_data = json.loads(p.text)\n",
    "for series in json_data['Results']['series']:\n",
    "    x=prettytable.PrettyTable([\"series id\",\"year\",\"period\",\"value\"])\n",
    "    #print(series)\n",
    "    seriesId = series['seriesID']\n",
    "    for item in series['data']:\n",
    "        year = item['year']\n",
    "        period = item['period']\n",
    "        value = item['value']"
   ]
  },
  {
   "cell_type": "code",
   "execution_count": 3,
   "metadata": {},
   "outputs": [],
   "source": [
    "#Create empty lists to hold our variables for year, month, unemployment rate, and state\n",
    "year_list = []\n",
    "month_list = []\n",
    "unemployment_rate_list = []\n",
    "state_list = []\n",
    "\n",
    "#loop through the API data to gather the necessary data\n",
    "\n",
    "for series in json_data['Results']['series']:\n",
    "    state_id = series['seriesID']\n",
    "    #print(state_id)\n",
    "    for item in series['data']:\n",
    "        year = item['year']\n",
    "        #print(year)\n",
    "        month = item['periodName']\n",
    "       # print(month)\n",
    "        unemployment_rate = item['value']   \n",
    "        #print(unemployment_rate)\n",
    "        \n",
    "        #add each variable (year,month,unemployment rate, state) to the approriate list\n",
    "        year_list.append(year)\n",
    "        month_list.append(month)\n",
    "        unemployment_rate_list.append(unemployment_rate)\n",
    "        state_list.append(state_id)\n",
    "\n",
    "        \n",
    "#print the list/length of list to ensure all lists are printing the correct information and all lists are the same length        \n",
    "#print(state_list)         \n",
    "#print(year_list)\n",
    "#print(month_list)\n",
    "#print(unemployment_rate_list)\n",
    "\n",
    "#print(len(state_list))\n",
    "#print(len(year_list))\n",
    "#print(len(month_list))\n",
    "#print(len(unemployment_rate_list))  "
   ]
  },
  {
   "cell_type": "code",
   "execution_count": null,
   "metadata": {},
   "outputs": [],
   "source": [
    "#Now we will query years 2016-2020\n",
    "headers = {'Content-type': 'application/json'}\n",
    "data = json.dumps({\"seriesid\": ['LAUST010000000000003','LAUST020000000000003', 'LAUST040000000000003', 'LAUST050000000000003', 'LAUST060000000000003','LAUST080000000000003', 'LAUST090000000000003', 'LAUST100000000000003', 'LAUST110000000000003', 'LAUST120000000000003','LAUST130000000000003', 'LAUST150000000000003', 'LAUST160000000000003', 'LAUST170000000000003', 'LAUST180000000000003', 'LAUST190000000000003', 'LAUST200000000000003', 'LAUST210000000000003', 'LAUST220000000000003', 'LAUST230000000000003', 'LAUST240000000000003', 'LAUST250000000000003', 'LAUST260000000000003', 'LAUST270000000000003', 'LAUST280000000000003', 'LAUST290000000000003', 'LAUST300000000000003', 'LAUST310000000000003', 'LAUST320000000000003', 'LAUST330000000000003', 'LAUST340000000000003', 'LAUST350000000000003', 'LAUST360000000000003', 'LAUST370000000000003', 'LAUST380000000000003', 'LAUST390000000000003','LAUST400000000000003', 'LAUST410000000000003', 'LAUST420000000000003', 'LAUST440000000000003', 'LAUST450000000000003', 'LAUST460000000000003', 'LAUST470000000000003', 'LAUST480000000000003', 'LAUST490000000000003', 'LAUST500000000000003', 'LAUST510000000000003', 'LAUST530000000000003', 'LAUST540000000000003', 'LAUST550000000000003', 'LAUST560000000000003', 'LAUST720000000000003']\n",
    ",\"startyear\":\"2016\", \"endyear\":\"2020\"})\n",
    "p = requests.post('https://api.bls.gov/publicAPI/v2/timeseries/data/', data=data, headers=headers)\n",
    "json_data = json.loads(p.text)\n",
    "for series in json_data['Results']['series']:\n",
    "    x=prettytable.PrettyTable([\"series id\",\"year\",\"period\",\"value\"])\n",
    "    #print(series)\n",
    "    seriesId = series['seriesID']\n",
    "    for item in series['data']:\n",
    "        year = item['year']\n",
    "        period = item['period']\n",
    "        value = item['value']"
   ]
  },
  {
   "cell_type": "code",
   "execution_count": null,
   "metadata": {},
   "outputs": [],
   "source": [
    "#loop through the API data to gather the necessary data\n",
    "\n",
    "for series in json_data['Results']['series']:\n",
    "    state_id = series['seriesID']\n",
    "    #print(state_id)\n",
    "    for item in series['data']:\n",
    "        year = item['year']\n",
    "        #print(year)\n",
    "        month = item['periodName']\n",
    "       # print(month)\n",
    "        unemployment_rate = item['value']   \n",
    "        #print(unemployment_rate)\n",
    "        \n",
    "        #add each variable (year,month,unemployment rate, state) to the approriate list\n",
    "        year_list.append(year)\n",
    "        month_list.append(month)\n",
    "        unemployment_rate_list.append(unemployment_rate)\n",
    "        state_list.append(state_id)"
   ]
  },
  {
   "cell_type": "code",
   "execution_count": null,
   "metadata": {},
   "outputs": [],
   "source": [
    "#Repeat the API call for the next 25 states (MO - WI) or LAUST290000000000003 - LAUST550000000000003\n",
    "\n",
    "headers = {'Content-type': 'application/json'}\n",
    "data = json.dumps({\"seriesid\": ['LAUST290000000000003', 'LAUST300000000000003', 'LAUST310000000000003', 'LAUST320000000000003', 'LAUST330000000000003', 'LAUST340000000000003', 'LAUST350000000000003', 'LAUST360000000000003', 'LAUST370000000000003', 'LAUST380000000000003', 'LAUST390000000000003','LAUST400000000000003', 'LAUST410000000000003', 'LAUST420000000000003', 'LAUST440000000000003', 'LAUST450000000000003', 'LAUST460000000000003', 'LAUST470000000000003', 'LAUST480000000000003', 'LAUST490000000000003', 'LAUST500000000000003', 'LAUST510000000000003', 'LAUST530000000000003', 'LAUST540000000000003', 'LAUST550000000000003', 'LAUST560000000000003', 'LAUST720000000000003']\n",
    ",\"startyear\":\"2007\", \"endyear\":\"2015\"})\n",
    "p = requests.post('https://api.bls.gov/publicAPI/v2/timeseries/data/', data=data, headers=headers)\n",
    "json_data = json.loads(p.text)\n",
    "for series in json_data['Results']['series']:\n",
    "    x=prettytable.PrettyTable([\"series id\",\"year\",\"period\",\"value\"])\n",
    "    #print(series)\n",
    "    seriesId = series['seriesID']\n",
    "    for item in series['data']:\n",
    "        year = item['year']\n",
    "        period = item['period']\n",
    "        value = item['value']"
   ]
  },
  {
   "cell_type": "code",
   "execution_count": null,
   "metadata": {},
   "outputs": [],
   "source": [
    "#loop through the API data to gather the necessary data\n",
    "for series in json_data['Results']['series']:\n",
    "    state_id = series['seriesID']\n",
    "    #print(state_id)\n",
    "    for item in series['data']:\n",
    "        year = item['year']\n",
    "        #print(year)\n",
    "        month = item['periodName']\n",
    "       # print(month)\n",
    "        unemployment_rate = item['value']   \n",
    "        #print(unemployment_rate)\n",
    "        \n",
    "        #add each variable (year,month,unemployment rate, state) to the approriate list\n",
    "        year_list.append(year)\n",
    "        month_list.append(month)\n",
    "        unemployment_rate_list.append(unemployment_rate)\n",
    "        state_list.append(state_id)        "
   ]
  },
  {
   "cell_type": "code",
   "execution_count": null,
   "metadata": {},
   "outputs": [],
   "source": [
    "#Repeat the API call for the next 25 states (MO - WI) or LAUST290000000000003 - LAUST550000000000003 for years 2016 - 2020\n",
    "\n",
    "headers = {'Content-type': 'application/json'}\n",
    "data = json.dumps({\"seriesid\": ['LAUST290000000000003', 'LAUST300000000000003', 'LAUST310000000000003', 'LAUST320000000000003', 'LAUST330000000000003', 'LAUST340000000000003', 'LAUST350000000000003', 'LAUST360000000000003', 'LAUST370000000000003', 'LAUST380000000000003', 'LAUST390000000000003','LAUST400000000000003', 'LAUST410000000000003', 'LAUST420000000000003', 'LAUST440000000000003', 'LAUST450000000000003', 'LAUST460000000000003', 'LAUST470000000000003', 'LAUST480000000000003', 'LAUST490000000000003', 'LAUST500000000000003', 'LAUST510000000000003', 'LAUST530000000000003', 'LAUST540000000000003', 'LAUST550000000000003', 'LAUST560000000000003', 'LAUST720000000000003']\n",
    ",\"startyear\":\"2016\", \"endyear\":\"2020\"})\n",
    "p = requests.post('https://api.bls.gov/publicAPI/v2/timeseries/data/', data=data, headers=headers)\n",
    "json_data = json.loads(p.text)\n",
    "for series in json_data['Results']['series']:\n",
    "    x=prettytable.PrettyTable([\"series id\",\"year\",\"period\",\"value\"])\n",
    "    #print(series)\n",
    "    seriesId = series['seriesID']\n",
    "    for item in series['data']:\n",
    "        year = item['year']\n",
    "        period = item['period']\n",
    "        value = item['value']"
   ]
  },
  {
   "cell_type": "code",
   "execution_count": null,
   "metadata": {},
   "outputs": [],
   "source": [
    "#loop through the API data to gather the necessary data\n",
    "for series in json_data['Results']['series']:\n",
    "    state_id = series['seriesID']\n",
    "    #print(state_id)\n",
    "    for item in series['data']:\n",
    "        year = item['year']\n",
    "        #print(year)\n",
    "        month = item['periodName']\n",
    "       # print(month)\n",
    "        unemployment_rate = item['value']   \n",
    "        #print(unemployment_rate)\n",
    "        \n",
    "        #add each variable (year,month,unemployment rate, state) to the approriate list\n",
    "        year_list.append(year)\n",
    "        month_list.append(month)\n",
    "        unemployment_rate_list.append(unemployment_rate)\n",
    "        state_list.append(state_id) "
   ]
  },
  {
   "cell_type": "code",
   "execution_count": null,
   "metadata": {},
   "outputs": [],
   "source": [
    "#Repeat the API call for the last 2 states (there are 52 since we included Washington DC and Puerto Rico) (WY and PR) or LAUST560000000000003 and  LAUST720000000000003\n",
    "headers = {'Content-type': 'application/json'}\n",
    "data = json.dumps({\"seriesid\": ['LAUST560000000000003', 'LAUST720000000000003']\n",
    ",\"startyear\":\"2007\", \"endyear\":\"2015\"})\n",
    "p = requests.post('https://api.bls.gov/publicAPI/v2/timeseries/data/', data=data, headers=headers)\n",
    "json_data = json.loads(p.text)\n",
    "for series in json_data['Results']['series']:\n",
    "    x=prettytable.PrettyTable([\"series id\",\"year\",\"period\",\"value\"])\n",
    "    #print(series)\n",
    "    seriesId = series['seriesID']\n",
    "    for item in series['data']:\n",
    "        year = item['year']\n",
    "        period = item['period']\n",
    "        value = item['value']"
   ]
  },
  {
   "cell_type": "code",
   "execution_count": null,
   "metadata": {},
   "outputs": [],
   "source": [
    "#loop through the API data to gather the necessary data\n",
    "for series in json_data['Results']['series']:\n",
    "    state_id = series['seriesID']\n",
    "    #print(state_id)\n",
    "    for item in series['data']:\n",
    "        year = item['year']\n",
    "        #print(year)\n",
    "        month = item['periodName']\n",
    "       # print(month)\n",
    "        unemployment_rate = item['value']   \n",
    "        #print(unemployment_rate)\n",
    "        \n",
    "        #add each variable (year,month,unemployment rate, state) to the approriate list\n",
    "        year_list.append(year)\n",
    "        month_list.append(month)\n",
    "        unemployment_rate_list.append(unemployment_rate)\n",
    "        state_list.append(state_id)"
   ]
  },
  {
   "cell_type": "code",
   "execution_count": null,
   "metadata": {},
   "outputs": [],
   "source": [
    "#Repeat the API call for the last 2 states (there are 52 since we included Washington DC and Puerto Rico) (WY and PR) or LAUST560000000000003 and  LAUST720000000000003\n",
    "#Query data 2016-2020\n",
    "headers = {'Content-type': 'application/json'}\n",
    "data = json.dumps({\"seriesid\": ['LAUST560000000000003', 'LAUST720000000000003']\n",
    ",\"startyear\":\"2016\", \"endyear\":\"2020\"})\n",
    "p = requests.post('https://api.bls.gov/publicAPI/v2/timeseries/data/', data=data, headers=headers)\n",
    "json_data = json.loads(p.text)\n",
    "for series in json_data['Results']['series']:\n",
    "    x=prettytable.PrettyTable([\"series id\",\"year\",\"period\",\"value\"])\n",
    "    #print(series)\n",
    "    seriesId = series['seriesID']\n",
    "    for item in series['data']:\n",
    "        year = item['year']\n",
    "        period = item['period']\n",
    "        value = item['value']"
   ]
  },
  {
   "cell_type": "code",
   "execution_count": null,
   "metadata": {},
   "outputs": [],
   "source": [
    "#loop through the API data to gather the necessary data\n",
    "for series in json_data['Results']['series']:\n",
    "    state_id = series['seriesID']\n",
    "    #print(state_id)\n",
    "    for item in series['data']:\n",
    "        year = item['year']\n",
    "        #print(year)\n",
    "        month = item['periodName']\n",
    "       # print(month)\n",
    "        unemployment_rate = item['value']   \n",
    "        #print(unemployment_rate)\n",
    "        \n",
    "        #add each variable (year,month,unemployment rate, state) to the approriate list\n",
    "        year_list.append(year)\n",
    "        month_list.append(month)\n",
    "        unemployment_rate_list.append(unemployment_rate)\n",
    "        state_list.append(state_id)"
   ]
  },
  {
   "cell_type": "code",
   "execution_count": null,
   "metadata": {},
   "outputs": [],
   "source": [
    "#testing various variables\n",
    "#print(p)\n",
    "#print(data)\n",
    "#pprint.pprint(json_data)\n",
    "#print(series)\n",
    "#print(seriesId)\n",
    "#print.pprint(value)\n",
    "print(x)"
   ]
  },
  {
   "cell_type": "code",
   "execution_count": null,
   "metadata": {},
   "outputs": [],
   "source": [
    "#Change the series ID to the correct state name by creating an empty list and replacing the seriesId with the state name\n",
    "updated_state_list = []\n",
    "\n",
    "for string in state_list:\n",
    "    new_state = string.replace('LAUST010000000000003', 'Alabama').replace('LAUST020000000000003', 'Alaska').replace('LAUST040000000000003', 'Arizona').replace('LAUST050000000000003', 'Arkansas').replace('LAUST060000000000003', 'California').replace('LAUST080000000000003', 'Colorado').replace('LAUST090000000000003', 'Connecticut').replace('LAUST100000000000003', 'Delaware').replace('LAUST110000000000003', 'District of Columbia').replace('LAUST120000000000003', 'Florida').replace('LAUST130000000000003', 'Georgia').replace('LAUST150000000000003', 'Hawaii').replace('LAUST160000000000003', 'Idaho').replace('LAUST170000000000003', 'Illinois').replace('LAUST180000000000003', 'Indiana').replace('LAUST190000000000003', 'Iowa').replace('LAUST200000000000003', 'Kansas').replace('LAUST210000000000003', 'Kentucky').replace('LAUST220000000000003', 'Louisiana').replace('LAUST230000000000003', 'Maine').replace('LAUST240000000000003', 'Maryland').replace('LAUST250000000000003', 'Massachusetts').replace('LAUST260000000000003', 'Michigan').replace('LAUST270000000000003', 'Minnesota').replace('LAUST280000000000003', 'Mississippi').replace('LAUST290000000000003', 'Missouri').replace('LAUST300000000000003', 'Montana').replace('LAUST310000000000003', 'Nebraska').replace('LAUST320000000000003','Nevada').replace('LAUST330000000000003', 'New Hampshire').replace('LAUST340000000000003', 'New Jersey').replace('LAUST350000000000003', 'New Mexico').replace('LAUST360000000000003', 'New York').replace('LAUST370000000000003', 'North Carolina').replace('LAUST380000000000003', 'North Dakota').replace('LAUST390000000000003', 'Ohio').replace('LAUST400000000000003', 'Oklahoma').replace('LAUST410000000000003', 'Oregon').replace('LAUST420000000000003', 'Pennsylvania').replace('LAUST440000000000003', 'Rhode Island').replace('LAUST450000000000003', 'South Carolina').replace('LAUST460000000000003', 'South Dakota').replace('LAUST470000000000003', 'Tennessee').replace('LAUST480000000000003', 'Texas').replace('LAUST490000000000003', 'Utah').replace('LAUST500000000000003', 'Vermont').replace('LAUST510000000000003', 'Virginia').replace('LAUST530000000000003', 'Washington').replace('LAUST540000000000003', 'West Virginia').replace('LAUST550000000000003', ' Wisconsin').replace('LAUST560000000000003', ' Wyoming').replace('LAUST720000000000003', 'Puerto Rico')\n",
    "    updated_state_list.append(new_state)\n",
    "    \n",
    "#print(updated_state_list)    "
   ]
  },
  {
   "cell_type": "code",
   "execution_count": null,
   "metadata": {},
   "outputs": [],
   "source": [
    "unemployment_df = pd.DataFrame(list(zip(updated_state_list, month_list,year_list, unemployment_rate_list)),columns=['State', 'Month', 'Year','Unemployment Rate'])\n",
    "unemployment_df"
   ]
  },
  {
   "cell_type": "code",
   "execution_count": null,
   "metadata": {},
   "outputs": [],
   "source": [
    "#Import CSV files with latitude and longitude information by state\n",
    "latlongdf = pd.read_csv(\"states_lat_long.csv\")\n",
    "latlongdf.head()"
   ]
  },
  {
   "cell_type": "code",
   "execution_count": null,
   "metadata": {},
   "outputs": [],
   "source": [
    "#Create a dataframe that merges the two above dataframes on the State name and \n",
    "mapable_unemployment_df = pd.merge(unemployment_df, latlongdf, on='State')\n",
    "mapable_unemployment_df"
   ]
  },
  {
   "cell_type": "code",
   "execution_count": null,
   "metadata": {},
   "outputs": [],
   "source": [
    "#Convert DataFrame to CSV file so that you are able to graph the data in Tableau\n",
    "mapable_unemployment_df.to_csv(\"mapable_unemployment_data_2008-2020.csv\")"
   ]
  },
  {
   "cell_type": "code",
   "execution_count": null,
   "metadata": {},
   "outputs": [],
   "source": []
  }
 ],
 "metadata": {
  "kernelspec": {
   "display_name": "Python 3",
   "language": "python",
   "name": "python3"
  },
  "language_info": {
   "codemirror_mode": {
    "name": "ipython",
    "version": 3
   },
   "file_extension": ".py",
   "mimetype": "text/x-python",
   "name": "python",
   "nbconvert_exporter": "python",
   "pygments_lexer": "ipython3",
   "version": "3.7.4"
  }
 },
 "nbformat": 4,
 "nbformat_minor": 2
}
